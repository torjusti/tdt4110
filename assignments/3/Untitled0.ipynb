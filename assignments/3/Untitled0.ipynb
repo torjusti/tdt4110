{
 "metadata": {
  "name": ""
 },
 "nbformat": 3,
 "nbformat_minor": 0,
 "worksheets": [
  {
   "cells": [
    {
     "cell_type": "code",
     "collapsed": false,
     "input": [
      "import math"
     ],
     "language": "python",
     "metadata": {},
     "outputs": [],
     "prompt_number": 2
    },
    {
     "cell_type": "code",
     "collapsed": false,
     "input": [
      "def f(x):\n",
      "    return 5 * math.pow(x, 3)\n",
      "\n",
      "interval = math.pow(86, 1./4)\n",
      "\n",
      "def calc(upper=False, partitions=4):\n",
      "    partition = interval / partitions\n",
      "    \n",
      "    def parts():\n",
      "        if upper:\n",
      "            for i in range(1, partitions + 1):\n",
      "                yield partition * f(partition * i)\n",
      "        else:\n",
      "            for i in range(0, partitions):\n",
      "                yield partition * f(partition * i)            \n",
      "            \n",
      "    return sum(parts())\n",
      "\n",
      "areaLower = calc()\n",
      "\n",
      "areaUpper = calc(True)\n",
      "\n",
      "print(\"approximations:\", areaLower, areaUpper)\n",
      "\n",
      "areaLowerLim = calc(False, 1000000)\n",
      "\n",
      "areaUpperLim = calc(True, 1000000)\n",
      "\n",
      "print(\"limits:\", round(areaLowerLim, 1), round(areaUpperLim, 1))\n",
      "\n"
     ],
     "language": "python",
     "metadata": {},
     "outputs": [
      {
       "output_type": "stream",
       "stream": "stdout",
       "text": [
        "('approximations:', 60.468750000000014, 167.96875000000006)\n",
        "('limits:', 107.5, 107.5)"
       ]
      },
      {
       "output_type": "stream",
       "stream": "stdout",
       "text": [
        "\n"
       ]
      }
     ],
     "prompt_number": 66
    }
   ],
   "metadata": {}
  }
 ]
}